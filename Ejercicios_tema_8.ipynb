{
  "nbformat": 4,
  "nbformat_minor": 0,
  "metadata": {
    "colab": {
      "provenance": []
    },
    "kernelspec": {
      "name": "python3",
      "display_name": "Python 3"
    },
    "language_info": {
      "name": "python"
    }
  },
  "cells": [
    {
      "cell_type": "markdown",
      "source": [
        "## Ejercicios tema 8\n",
        "\n",
        "*  Enunciado del ejercicio:\n",
        "\n",
        "*  Para practicar la encapsulación:\n",
        "\n",
        "* Crear clase Persona.\n",
        "\n",
        "* Crear variables las privadas edad, nombre y telefono de la clase Persona.\n",
        "\n",
        "* Crear gets y sets de cada propiedad.\n",
        "\n",
        "\n",
        "* Crear un objeto persona en el main.\n",
        "\n",
        "* Utiliza los gets y sets para darle valores a las propiedades edad, nombre y telefono, por último muéstralas por consola.\n",
        "\n",
        "\n",
        "\n"
      ],
      "metadata": {
        "id": "-kP-le8E6Y0p"
      }
    },
    {
      "cell_type": "code",
      "execution_count": 11,
      "metadata": {
        "id": "admkNLce6S90"
      },
      "outputs": [],
      "source": [
        "class Persona:\n",
        "\n",
        "  def __init__(self, e,n,t):\n",
        "     self.__edad= e\n",
        "     self.__nombre= n\n",
        "     self.__telefono= t\n",
        "\n",
        "#Getters (método  GET)\n",
        "  def get_edad(self):\n",
        "    return self.__nombre  \n",
        "\n",
        "  def get_nombre(self):\n",
        "    return self.__edad\n",
        "\n",
        "  def get_telefono(self):\n",
        "    return self.__telefono\n",
        "\n",
        "#Setters (método SET)\n",
        "\n",
        "  def set_telefono(self, telefono):\n",
        "    self.__telefono = telefono"
      ]
    },
    {
      "cell_type": "code",
      "source": [
        "persona1=Persona(\"Juan Perez\", 38, 912332112)\n",
        "print(persona1.get_nombre())\n",
        "print(persona1.get_edad())\n",
        "persona1.set_telefono(912332113)\n",
        "print(persona1.get_telefono())"
      ],
      "metadata": {
        "colab": {
          "base_uri": "https://localhost:8080/"
        },
        "id": "bpzogBCaE1-y",
        "outputId": "c16523bf-1783-410d-b0bf-cbe97073437d"
      },
      "execution_count": 13,
      "outputs": [
        {
          "output_type": "stream",
          "name": "stdout",
          "text": [
            "Juan Perez\n",
            "38\n",
            "912332113\n"
          ]
        }
      ]
    },
    {
      "cell_type": "code",
      "source": [],
      "metadata": {
        "id": "g4Il30RRHUd_"
      },
      "execution_count": null,
      "outputs": []
    }
  ]
}